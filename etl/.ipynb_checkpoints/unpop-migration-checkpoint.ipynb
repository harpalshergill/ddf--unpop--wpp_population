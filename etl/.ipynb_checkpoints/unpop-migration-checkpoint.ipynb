{
 "cells": [
  {
   "cell_type": "code",
   "execution_count": 1,
   "metadata": {
    "collapsed": true
   },
   "outputs": [],
   "source": [
    "import pandas as pd\n",
    "import numpy as np\n",
    "import re\n",
    "import os\n",
    "from ddf_utils.str import to_concept_id\n",
    "from ddf_utils.index import create_datapackage"
   ]
  },
  {
   "cell_type": "code",
   "execution_count": 2,
   "metadata": {
    "collapsed": true
   },
   "outputs": [],
   "source": [
    "source_migration = 'source/WPP2015_MIGR_F02_NET_NUMBER_OF_MIGRANTS.XLS'\n",
    "out_dir = '../../'"
   ]
  },
  {
   "cell_type": "code",
   "execution_count": 3,
   "metadata": {
    "collapsed": true
   },
   "outputs": [],
   "source": [
    "def load_files_Migration(source):\n",
    "    data_est = pd.read_excel(source, sheetname='ESTIMATES', skiprows=16, na_values='…')\n",
    "    data_varM = pd.read_excel(source, sheetname='MEDIUM VARIANT', skiprows=16, na_values='…')\n",
    "    \n",
    "    data_est = cleanup_data_For_Migration(data_est)\n",
    "    data_varM = cleanup_data_For_Migration(data_varM)\n",
    "    \n",
    "    return [data_est, data_varM]"
   ]
  },
  {
   "cell_type": "code",
   "execution_count": 4,
   "metadata": {
    "collapsed": true
   },
   "outputs": [],
   "source": [
    "def cleanup_data_For_Migration(data):\n",
    "    #remove index and Notes column\n",
    "    data = data.drop(['Index', 'Notes'], axis=1)\n",
    "    \n",
    "    #rename country column and country code column\n",
    "    data = data.rename(columns={\n",
    "        'Major area, region, country or area *': 'Ref_Area',\n",
    "        'Country code': 'Ref_Area_Code'\n",
    "    })\n",
    "    \n",
    "    return data"
   ]
  },
  {
   "cell_type": "code",
   "execution_count": 5,
   "metadata": {
    "collapsed": true
   },
   "outputs": [],
   "source": [
    "def extract_datapoint_Migration(dflist):\n",
    "    to_concat = []\n",
    "    \n",
    "    for df in dflist:\n",
    "        e = df.drop(['Ref_Area'], axis = 1)\n",
    "        e = e.set_index(['Ref_Area_Code', 'Variant'])\n",
    "        e.columns.name = 'Year'\n",
    "        df_new = e.stack().reset_index().rename(columns={0: 'populationmigration'})\n",
    "        to_concat.append(df_new)\n",
    "        \n",
    "    df_all = pd.concat(to_concat, ignore_index = True)\n",
    "    df_all.columns = list(map(to_concept_id, df_all.columns))\n",
    "    \n",
    "    df_all['year'] = df_all['year'].astype('category', categories=list(df_all['year'].unique()), ordered = True)\n",
    "    \n",
    "    df_all = df_all.sort_values(by = ['ref_area_code', 'year', 'variant'])\n",
    "    return df_all"
   ]
  },
  {
   "cell_type": "code",
   "execution_count": 9,
   "metadata": {
    "collapsed": true
   },
   "outputs": [],
   "source": [
    "def generate_Population_Migration_Data(source):\n",
    "    print('reading TotalPop source data with Variance...')\n",
    "    print('\\Both Sex...')\n",
    "    df_bothSex = load_files_Migration(source)\n",
    "    \n",
    "    print('Extracting DataPoints...')\n",
    "    df_bothSex_DP = extract_datapoint_Migration(df_bothSex)\n",
    "    \n",
    "    for geo, idxs in df_mf.groupby(by='ref_area_code').groups.items():\n",
    "        path = os.path.join(out_dir, \n",
    "            'ddf--datapoints--populationmigration--by--ref_area_code--year--variant/ddf--datapoints--populationmigration--by--ref_area_code-{}--year--variant.csv'.format(geo))\n",
    "        to_save = df_mf.ix[idxs]\n",
    "        to_save = to_save.sort_values(by=['ref_area_code', 'year'])\n",
    "        to_save.ix[idxs].to_csv(path, index=False, float_format='%.15g')\n",
    "    \n",
    "    \n",
    "    #get the new years and add them to existing csv file for year?\n",
    "    "
   ]
  },
  {
   "cell_type": "code",
   "execution_count": 11,
   "metadata": {
    "collapsed": false
   },
   "outputs": [
    {
     "name": "stdout",
     "output_type": "stream",
     "text": [
      "reading TotalPop source data with Variance...\n",
      "\\Both Sex...\n"
     ]
    },
    {
     "ename": "TypeError",
     "evalue": "load_files_Migration() takes 1 positional argument but 2 were given",
     "output_type": "error",
     "traceback": [
      "\u001b[0;31m---------------------------------------------------------------------------\u001b[0m",
      "\u001b[0;31mTypeError\u001b[0m                                 Traceback (most recent call last)",
      "\u001b[0;32m<ipython-input-11-a298dcc3e708>\u001b[0m in \u001b[0;36m<module>\u001b[0;34m()\u001b[0m\n\u001b[0;32m----> 1\u001b[0;31m \u001b[0mgenerate_Population_Migration_Data\u001b[0m\u001b[0;34m(\u001b[0m\u001b[0msource_migration\u001b[0m\u001b[0;34m)\u001b[0m\u001b[0;34m\u001b[0m\u001b[0m\n\u001b[0m",
      "\u001b[0;32m<ipython-input-9-41667483c7c6>\u001b[0m in \u001b[0;36mgenerate_Population_Migration_Data\u001b[0;34m(source)\u001b[0m\n\u001b[1;32m      2\u001b[0m     \u001b[0mprint\u001b[0m\u001b[0;34m(\u001b[0m\u001b[0;34m'reading TotalPop source data with Variance...'\u001b[0m\u001b[0;34m)\u001b[0m\u001b[0;34m\u001b[0m\u001b[0m\n\u001b[1;32m      3\u001b[0m     \u001b[0mprint\u001b[0m\u001b[0;34m(\u001b[0m\u001b[0;34m'\\Both Sex...'\u001b[0m\u001b[0;34m)\u001b[0m\u001b[0;34m\u001b[0m\u001b[0m\n\u001b[0;32m----> 4\u001b[0;31m     \u001b[0mdf_bothSex\u001b[0m \u001b[0;34m=\u001b[0m \u001b[0mload_files_Migration\u001b[0m\u001b[0;34m(\u001b[0m\u001b[0msource\u001b[0m\u001b[0;34m,\u001b[0m \u001b[0;34m'both_sexes'\u001b[0m\u001b[0;34m)\u001b[0m\u001b[0;34m\u001b[0m\u001b[0m\n\u001b[0m\u001b[1;32m      5\u001b[0m \u001b[0;34m\u001b[0m\u001b[0m\n\u001b[1;32m      6\u001b[0m     \u001b[0mprint\u001b[0m\u001b[0;34m(\u001b[0m\u001b[0;34m'Extracting DataPoints...'\u001b[0m\u001b[0;34m)\u001b[0m\u001b[0;34m\u001b[0m\u001b[0m\n",
      "\u001b[0;31mTypeError\u001b[0m: load_files_Migration() takes 1 positional argument but 2 were given"
     ]
    }
   ],
   "source": [
    "generate_Population_Migration_Data(source_migration)"
   ]
  },
  {
   "cell_type": "code",
   "execution_count": null,
   "metadata": {
    "collapsed": true
   },
   "outputs": [],
   "source": []
  }
 ],
 "metadata": {
  "anaconda-cloud": {},
  "kernelspec": {
   "display_name": "Python [default]",
   "language": "python",
   "name": "python3"
  },
  "language_info": {
   "codemirror_mode": {
    "name": "ipython",
    "version": 3
   },
   "file_extension": ".py",
   "mimetype": "text/x-python",
   "name": "python",
   "nbconvert_exporter": "python",
   "pygments_lexer": "ipython3",
   "version": "3.5.2"
  }
 },
 "nbformat": 4,
 "nbformat_minor": 0
}
