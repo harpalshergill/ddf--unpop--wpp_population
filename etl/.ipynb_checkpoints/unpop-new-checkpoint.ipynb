{
 "cells": [
  {
   "cell_type": "code",
   "execution_count": 221,
   "metadata": {
    "collapsed": true
   },
   "outputs": [],
   "source": [
    "import pandas as pd\n",
    "import numpy as np\n",
    "import re\n",
    "import os\n",
    "from ddf_utils.str import to_concept_id\n",
    "from ddf_utils.index import create_datapackage"
   ]
  },
  {
   "cell_type": "code",
   "execution_count": 236,
   "metadata": {
    "collapsed": true
   },
   "outputs": [],
   "source": [
    "source_t = 'source/WPP2015_POP_F01_1_TOTAL_POPULATION_BOTH_SEXES.XLS'\n",
    "source_m = 'source/WPP2015_POP_F01_2_TOTAL_POPULATION_MALE.XLS'\n",
    "source_f = 'source/WPP2015_POP_F01_3_TOTAL_POPULATION_FEMALE.XLS'\n",
    "out_dir = '../../'"
   ]
  },
  {
   "cell_type": "code",
   "execution_count": 237,
   "metadata": {
    "collapsed": true
   },
   "outputs": [],
   "source": [
    "def cleanup_data(data, gender):\n",
    "    #remove index and Notes column\n",
    "    data = data.drop(['Index', 'Notes'], axis=1)\n",
    "    \n",
    "    #rename country column and country code column\n",
    "    data = data.rename(columns={\n",
    "        'Major area, region, country or area *': 'Ref_Area',\n",
    "        'Country code': 'Ref_Area_Code'\n",
    "    })\n",
    "    \n",
    "    #insert Gender column\n",
    "    data.insert(3, 'Gender', gender)\n",
    "    \n",
    "    return data"
   ]
  },
  {
   "cell_type": "code",
   "execution_count": 238,
   "metadata": {
    "collapsed": true
   },
   "outputs": [],
   "source": [
    "def extract_concepts(data):\n",
    "    concept_name = list(data_est.columns[:4])\n",
    "    concept_name.append('Year')\n",
    "    concept_name.append('Population')\n",
    "\n",
    "    concepts = list(map(to_concept_id, concept_name))\n",
    "    \n",
    "    # now construct the dataframe\n",
    "    cdf = pd.DataFrame([], columns=['concept', 'concept_type', 'name'])\n",
    "    cdf['concept'] = concepts\n",
    "    cdf['name'] = concept_name\n",
    "\n",
    "    cdf['concept_type'] = 'string'\n",
    "\n",
    "    # population\n",
    "    cdf['concept_type'].iloc[5] = 'measure'\n",
    "\n",
    "    # entity domains\n",
    "    cdf['concept_type'].iloc[[2, 3]] = 'entity_domain'\n",
    "\n",
    "    # year\n",
    "    cdf['concept_type'].iloc[4] = 'time'\n",
    "    \n",
    "    return cdf\n",
    "\n"
   ]
  },
  {
   "cell_type": "code",
   "execution_count": 239,
   "metadata": {
    "collapsed": true
   },
   "outputs": [],
   "source": [
    "def extract_entities_country(data_est, data_varM, data_varH, data_varL):\n",
    "    # extract countires name\n",
    "    # check if all data set has same numbers of countires\n",
    "    \n",
    "    \n",
    "    data_est.columns = list(map(to_concept_id, data_est.columns))\n",
    "    data_varM.columns = list(map(to_concept_id, data_varM.columns))\n",
    "    data_varH.columns = list(map(to_concept_id, data_varH.columns))\n",
    "    data_varL.columns = list(map(to_concept_id, data_varL.columns))\n",
    "\n",
    "    entity = data_est[['ref_area', 'ref_area_code']].copy()\n",
    "    entity = entity.drop_duplicates()\n",
    "    \n",
    "    entity2 = data_varM[['ref_area', 'ref_area_code']].copy()\n",
    "    entity2 = entity2.drop_duplicates()\n",
    "    \n",
    "    entity3 = data_varH[['ref_area', 'ref_area_code']].copy()\n",
    "    entity3 = entity3.drop_duplicates()\n",
    "    \n",
    "    entity4 = data_varL[['ref_area', 'ref_area_code']].copy()\n",
    "    entity4 = entity4.drop_duplicates()\n",
    "    \n",
    "    if (len(entity) != len(entity2) or\n",
    "        len(entity) != len(entity3) or\n",
    "        len(entity) != len(entity4)):\n",
    "        print('Warning: entities not same in the excel tabs.')\n",
    "\n",
    "        ent = pd.concat([entity, entity2, entity3, entity4])\n",
    "        return ent.drop_duplicates()\n",
    "\n",
    "    return entity"
   ]
  },
  {
   "cell_type": "code",
   "execution_count": 240,
   "metadata": {
    "collapsed": true
   },
   "outputs": [],
   "source": [
    "def extract_entities_gender():\n",
    "    \"\"\"no more information about gender in source, just create that\"\"\"\n",
    "    df = pd.DataFrame([], columns=['gender', 'name'])\n",
    "    df['gender'] = ['male', 'female']\n",
    "    df['name'] = ['Male', 'Female']\n",
    "\n",
    "    return df"
   ]
  },
  {
   "cell_type": "code",
   "execution_count": 241,
   "metadata": {
    "collapsed": true
   },
   "outputs": [],
   "source": [
    "def extract_entities_age(data_est):\n",
    "    \"\"\"extract ages from estimates tab of source data.\"\"\"\n",
    "\n",
    "    df = pd.DataFrame([], columns=['age', 'name'])\n",
    "    df['age'] = data_est.columns[5:]\n",
    "\n",
    "    df['name'] = 'Age ' + df['age']\n",
    "    return df"
   ]
  },
  {
   "cell_type": "code",
   "execution_count": 253,
   "metadata": {
    "collapsed": true
   },
   "outputs": [],
   "source": [
    "def extract_datapoints(dflist):\n",
    "    to_concat = []\n",
    "    \n",
    "    for df in dflist:\n",
    "        e = df.drop(['Ref_Area'], axis=1)\n",
    "        e = e.set_index(['Ref_Area_Code','Variant', 'Gender'])\n",
    "        e.columns.name = 'Year'\n",
    "        dfnew = e.stack().reset_index().rename(columns={0:'Population'})\n",
    "        to_concat.append(dfnew)\n",
    "        \n",
    "    df_all = pd.concat(to_concat, ignore_index=True)\n",
    "\n",
    "    df_all.columns = list(map(to_concept_id, df_all1.columns))\n",
    "    #since year does not contain characters like age does...\n",
    "    #df_all['year'] = df_all['year'].astype('category', categories=list(df_all['year'].unique()), ordered=True)\n",
    "    df_all = df_all.sort_values(by=['ref_area_code', 'year','variant', 'gender'])\n",
    "\n",
    "    return df_all"
   ]
  },
  {
   "cell_type": "code",
   "execution_count": 254,
   "metadata": {
    "collapsed": true
   },
   "outputs": [],
   "source": [
    "def load_files(source, gender):\n",
    "    data_est = pd.read_excel(source, sheetname='ESTIMATES', skiprows=16, na_values='…')\n",
    "    data_varM = pd.read_excel(source, sheetname='MEDIUM VARIANT', skiprows=16, na_values='…')\n",
    "    data_varH = pd.read_excel(source, sheetname='HIGH VARIANT', skiprows=16, na_values='…')\n",
    "    data_varL = pd.read_excel(source, sheetname='LOW VARIANT', skiprows=16, na_values='…')\n",
    "    \n",
    "    data_est = cleanup_data(data_est, gender)\n",
    "    data_varM = cleanup_data(data_varM, gender)\n",
    "    data_varH = cleanup_data(data_varH, gender)\n",
    "    data_varL = cleanup_data(data_varL, gender)\n",
    "    \n",
    "    return [data_est, data_varM, data_varH, data_varL]"
   ]
  },
  {
   "cell_type": "code",
   "execution_count": 264,
   "metadata": {
    "collapsed": false
   },
   "outputs": [],
   "source": [
    "df_bothSex = load_files(source_t, 'both_sexes')\n",
    "df_female = load_files(source_f, 'female')\n",
    "df_male = load_files(source_m, 'male')"
   ]
  },
  {
   "cell_type": "code",
   "execution_count": 265,
   "metadata": {
    "collapsed": false
   },
   "outputs": [],
   "source": [
    "df_bothSex_DP = extract_datapoints(df_bothSex)\n",
    "df_female_DP = extract_datapoints(df_female)\n",
    "df_male_DP = extract_datapoints(df_male)"
   ]
  },
  {
   "cell_type": "code",
   "execution_count": 266,
   "metadata": {
    "collapsed": false
   },
   "outputs": [],
   "source": [
    "#merge all the data together for all sexes\n",
    "df_all_MaleFemale = pd.concat([df_female_DP, df_male_DP], ignore_index = True)\n",
    "df_all_MaleFemale = df_all_MaleFemale.sort_values(by=['ref_area_code', 'year', 'gender', 'variant'])\n"
   ]
  },
  {
   "cell_type": "code",
   "execution_count": 267,
   "metadata": {
    "collapsed": false
   },
   "outputs": [
    {
     "data": {
      "text/html": [
       "<div>\n",
       "<table border=\"1\" class=\"dataframe\">\n",
       "  <thead>\n",
       "    <tr style=\"text-align: right;\">\n",
       "      <th></th>\n",
       "      <th>ref_area_code</th>\n",
       "      <th>variant</th>\n",
       "      <th>gender</th>\n",
       "      <th>year</th>\n",
       "      <th>population</th>\n",
       "    </tr>\n",
       "  </thead>\n",
       "  <tbody>\n",
       "    <tr>\n",
       "      <th>0</th>\n",
       "      <td>4</td>\n",
       "      <td>Estimates</td>\n",
       "      <td>female</td>\n",
       "      <td>1950</td>\n",
       "      <td>3652.877</td>\n",
       "    </tr>\n",
       "    <tr>\n",
       "      <th>78084</th>\n",
       "      <td>4</td>\n",
       "      <td>Estimates</td>\n",
       "      <td>male</td>\n",
       "      <td>1950</td>\n",
       "      <td>4099.241</td>\n",
       "    </tr>\n",
       "  </tbody>\n",
       "</table>\n",
       "</div>"
      ],
      "text/plain": [
       "       ref_area_code    variant  gender  year  population\n",
       "0                  4  Estimates  female  1950    3652.877\n",
       "78084              4  Estimates    male  1950    4099.241"
      ]
     },
     "execution_count": 267,
     "metadata": {},
     "output_type": "execute_result"
    }
   ],
   "source": [
    "df_all_MaleFemale.head(2)"
   ]
  },
  {
   "cell_type": "code",
   "execution_count": 269,
   "metadata": {
    "collapsed": true
   },
   "outputs": [],
   "source": [
    "#produce files for both sex\n",
    "\n",
    "#first remove the both sex --gender column\n",
    "df_bothSex_DP = df_bothSex_DP.drop('gender', axis=1)\n",
    "for geo, idxs in df_bothSex_DP.groupby(by='ref_area_code').groups.items():\n",
    "    path = os.path.join(out_dir,'ddf--datapoints--population--by--country_code--{}--year--variant.csv'.format(geo))\n",
    "    to_save = df_bothSex_DP.ix[idxs]\n",
    "    to_save.ix[idxs].to_csv(path, index=False, float_format='%.15g')"
   ]
  },
  {
   "cell_type": "code",
   "execution_count": 268,
   "metadata": {
    "collapsed": true
   },
   "outputs": [],
   "source": [
    "#produce files for Male and Female sex\n",
    "for geo, idxs in df_all_MaleFemale.groupby(by='ref_area_code').groups.items():\n",
    "    path = os.path.join(out_dir,'ddf--datapoints--population--by--country_code--{}--year--sex--variant.csv'.format(geo))\n",
    "    to_save = df_all_MaleFemale.ix[idxs]\n",
    "    to_save.ix[idxs].to_csv(path, index=False, float_format='%.15g')"
   ]
  },
  {
   "cell_type": "code",
   "execution_count": null,
   "metadata": {
    "collapsed": false
   },
   "outputs": [],
   "source": [
    "\n"
   ]
  },
  {
   "cell_type": "code",
   "execution_count": null,
   "metadata": {
    "collapsed": true
   },
   "outputs": [],
   "source": []
  },
  {
   "cell_type": "code",
   "execution_count": null,
   "metadata": {
    "collapsed": true
   },
   "outputs": [],
   "source": []
  },
  {
   "cell_type": "code",
   "execution_count": null,
   "metadata": {
    "collapsed": true
   },
   "outputs": [],
   "source": []
  },
  {
   "cell_type": "code",
   "execution_count": null,
   "metadata": {
    "collapsed": true
   },
   "outputs": [],
   "source": []
  },
  {
   "cell_type": "code",
   "execution_count": null,
   "metadata": {
    "collapsed": true
   },
   "outputs": [],
   "source": []
  },
  {
   "cell_type": "code",
   "execution_count": null,
   "metadata": {
    "collapsed": true
   },
   "outputs": [],
   "source": []
  },
  {
   "cell_type": "code",
   "execution_count": null,
   "metadata": {
    "collapsed": true
   },
   "outputs": [],
   "source": []
  },
  {
   "cell_type": "code",
   "execution_count": null,
   "metadata": {
    "collapsed": true
   },
   "outputs": [],
   "source": []
  }
 ],
 "metadata": {
  "anaconda-cloud": {},
  "kernelspec": {
   "display_name": "Python [default]",
   "language": "python",
   "name": "python3"
  },
  "language_info": {
   "codemirror_mode": {
    "name": "ipython",
    "version": 3
   },
   "file_extension": ".py",
   "mimetype": "text/x-python",
   "name": "python",
   "nbconvert_exporter": "python",
   "pygments_lexer": "ipython3",
   "version": "3.5.2"
  }
 },
 "nbformat": 4,
 "nbformat_minor": 0
}
